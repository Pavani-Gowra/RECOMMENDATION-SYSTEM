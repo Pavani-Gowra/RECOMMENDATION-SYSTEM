{
 "cells": [
  {
   "cell_type": "code",
   "execution_count": 1,
   "id": "5afeb96d-12d8-4a6a-bbf8-ff9ffb4af99b",
   "metadata": {},
   "outputs": [],
   "source": [
    "# Task 4: User-Based Collaborative Filtering Recommendation System\n",
    "import pandas as pd\n",
    "from sklearn.metrics.pairwise import cosine_similarity\n",
    "import numpy as np\n",
    "\n"
   ]
  },
  {
   "cell_type": "code",
   "execution_count": 2,
   "id": "d1028f4d-2cd7-470a-a9be-17a01a30e4f4",
   "metadata": {},
   "outputs": [],
   "source": [
    "# Sample dataset\n",
    "data = {\n",
    "    'user_id': [1, 1, 2, 2, 3, 3, 4, 4, 5],\n",
    "    'movie':   ['A', 'B', 'A', 'C', 'B', 'C', 'A', 'C', 'B'],\n",
    "    'rating':  [5, 3, 4, 5, 2, 4, 5, 3, 4]\n",
    "}\n",
    "df = pd.DataFrame(data)\n",
    "\n"
   ]
  },
  {
   "cell_type": "code",
   "execution_count": 3,
   "id": "71243b53-fb9b-490b-8a5a-ab2257331137",
   "metadata": {},
   "outputs": [],
   "source": [
    "# Create User-Item Matrix\n",
    "user_movie_matrix = df.pivot_table(index='user_id', columns='movie', values='rating').fillna(0)\n",
    "\n"
   ]
  },
  {
   "cell_type": "code",
   "execution_count": 4,
   "id": "f6dc1fcc-a336-41d5-9d4b-63e8da81ea21",
   "metadata": {},
   "outputs": [
    {
     "name": "stdout",
     "output_type": "stream",
     "text": [
      "User-User Similarity Matrix:\n",
      " user_id         1         2         3         4         5\n",
      "user_id                                                  \n",
      "1        1.000000  0.535672  0.230089  0.735294  0.514496\n",
      "2        0.535672  1.000000  0.698430  0.937425  0.000000\n",
      "3        0.230089  0.698430  1.000000  0.460179  0.447214\n",
      "4        0.735294  0.937425  0.460179  1.000000  0.000000\n",
      "5        0.514496  0.000000  0.447214  0.000000  1.000000\n"
     ]
    }
   ],
   "source": [
    "# Compute cosine similarity between users\n",
    "user_similarity = cosine_similarity(user_movie_matrix)\n",
    "user_sim_df = pd.DataFrame(user_similarity, index=user_movie_matrix.index, columns=user_movie_matrix.index)\n",
    "\n",
    "print(\"User-User Similarity Matrix:\\n\", user_sim_df)\n",
    "\n"
   ]
  },
  {
   "cell_type": "code",
   "execution_count": 5,
   "id": "8dd8fd1f-42a4-4b7f-b812-983fdecbed66",
   "metadata": {},
   "outputs": [],
   "source": [
    "# Recommend movies for a specific user based on similar users\n",
    "target_user = 1\n",
    "similar_users = user_sim_df[target_user].sort_values(ascending=False)[1:]  # Exclude self\n",
    "top_user = similar_users.idxmax()  # Most similar user\n",
    "\n"
   ]
  },
  {
   "cell_type": "code",
   "execution_count": 6,
   "id": "60611c2e-03b4-489a-ba6e-09c7e2da468c",
   "metadata": {},
   "outputs": [
    {
     "name": "stdout",
     "output_type": "stream",
     "text": [
      "\n",
      "Recommendations for User 1 based on similar User 4:\n",
      "\n",
      "  movie  rating\n",
      "7     C       3\n"
     ]
    }
   ],
   "source": [
    "# Movies rated by top similar user that the target user hasn't rated\n",
    "target_rated = df[df['user_id'] == target_user]['movie'].tolist()\n",
    "top_user_movies = df[df['user_id'] == top_user]\n",
    "recommendations = top_user_movies[~top_user_movies['movie'].isin(target_rated)]\n",
    "\n",
    "print(f\"\\nRecommendations for User {target_user} based on similar User {top_user}:\\n\")\n",
    "print(recommendations[['movie', 'rating']])"
   ]
  },
  {
   "cell_type": "code",
   "execution_count": null,
   "id": "647b9548-3a22-4b21-880d-cb56250fcdcf",
   "metadata": {},
   "outputs": [],
   "source": []
  }
 ],
 "metadata": {
  "kernelspec": {
   "display_name": "Python 3 (ipykernel)",
   "language": "python",
   "name": "python3"
  },
  "language_info": {
   "codemirror_mode": {
    "name": "ipython",
    "version": 3
   },
   "file_extension": ".py",
   "mimetype": "text/x-python",
   "name": "python",
   "nbconvert_exporter": "python",
   "pygments_lexer": "ipython3",
   "version": "3.8.10"
  }
 },
 "nbformat": 4,
 "nbformat_minor": 5
}
